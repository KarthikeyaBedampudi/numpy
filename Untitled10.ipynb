{
  "nbformat": 4,
  "nbformat_minor": 0,
  "metadata": {
    "colab": {
      "provenance": []
    },
    "kernelspec": {
      "name": "python3",
      "display_name": "Python 3"
    },
    "language_info": {
      "name": "python"
    }
  },
  "cells": [
    {
      "cell_type": "markdown",
      "source": [
        "**1.GETTING FAMILIARITY WITH NUMPY**\n",
        "\n",
        "---\n",
        "\n",
        "\n",
        "\n",
        "\n"
      ],
      "metadata": {
        "id": "mqKcI4AIvDQQ"
      }
    },
    {
      "cell_type": "code",
      "execution_count": 1,
      "metadata": {
        "colab": {
          "base_uri": "https://localhost:8080/",
          "height": 0
        },
        "id": "rVPusNe1touR",
        "outputId": "c5f395ad-de5c-41e6-cfd3-bd95159cbb9b"
      },
      "outputs": [
        {
          "output_type": "stream",
          "name": "stdout",
          "text": [
            "1D Array: [1 2 3 4 5]\n",
            "\n",
            "2D Array:\n",
            " [[1 2 3]\n",
            " [4 5 6]]\n",
            "\n",
            "3D Array:\n",
            " [[[1 2]\n",
            "  [3 4]]\n",
            "\n",
            " [[5 6]\n",
            "  [7 8]]]\n"
          ]
        }
      ],
      "source": [
        "#importing numpy package\n",
        "import numpy as np\n",
        "\n",
        "# Creating a 1D array\n",
        "array_1d = np.array([1, 2, 3, 4, 5])\n",
        "print(\"1D Array:\", array_1d)\n",
        "\n",
        "# Creating a 2D array (matrix)\n",
        "array_2d = np.array([[1, 2, 3], [4, 5, 6]])\n",
        "print(\"\\n2D Array:\\n\", array_2d)\n",
        "\n",
        "# Creating a 3D array\n",
        "array_3d = np.array([[[1, 2], [3, 4]], [[5, 6], [7, 8]]])\n",
        "print(\"\\n3D Array:\\n\", array_3d)\n"
      ]
    },
    {
      "cell_type": "code",
      "source": [
        "#basic properties of np array\n",
        "#Shape: The dimensions of the array.\n",
        "print(\"Shape of 1D array:\", array_1d.shape)\n",
        "print(\"Shape of 2D array:\", array_2d.shape)\n",
        "print(\"Shape of 3D array:\", array_3d.shape)\n",
        "#Size: The total number of elements.\n",
        "print(\"\\nSize of 2D array:\", array_2d.size)\n",
        "#Data Type: The type of elements stored in the array.\n",
        "print(\"Data type of 1D array:\", array_1d.dtype)\n"
      ],
      "metadata": {
        "colab": {
          "base_uri": "https://localhost:8080/",
          "height": 0
        },
        "id": "0VBPEaDUt5mx",
        "outputId": "58972cea-af7d-4d9d-8595-5c72a713b9a8"
      },
      "execution_count": 2,
      "outputs": [
        {
          "output_type": "stream",
          "name": "stdout",
          "text": [
            "Shape of 1D array: (5,)\n",
            "Shape of 2D array: (2, 3)\n",
            "Shape of 3D array: (2, 2, 2)\n",
            "\n",
            "Size of 2D array: 6\n",
            "Data type of 1D array: int64\n"
          ]
        }
      ]
    },
    {
      "cell_type": "code",
      "source": [
        "# basic operations\n",
        "array_a = np.array([10, 20, 30])\n",
        "array_b = np.array([1, 2, 3])\n",
        "\n",
        "print(\"\\nAddition:\", array_a + array_b)\n",
        "print(\"Subtraction:\", array_a - array_b)\n",
        "print(\"Multiplication:\", array_a * array_b)\n",
        "print(\"Division:\", array_a / array_b)\n"
      ],
      "metadata": {
        "colab": {
          "base_uri": "https://localhost:8080/",
          "height": 0
        },
        "id": "BzngwkjhuXq8",
        "outputId": "530d1564-832d-4b2e-e4fe-ec782fcfe199"
      },
      "execution_count": 3,
      "outputs": [
        {
          "output_type": "stream",
          "name": "stdout",
          "text": [
            "\n",
            "Addition: [11 22 33]\n",
            "Subtraction: [ 9 18 27]\n",
            "Multiplication: [10 40 90]\n",
            "Division: [10. 10. 10.]\n"
          ]
        }
      ]
    },
    {
      "cell_type": "markdown",
      "source": [
        "**2.DATA MANIPULATION**\n",
        "\n",
        "---\n",
        "\n"
      ],
      "metadata": {
        "id": "DdH93DvMvY5V"
      }
    },
    {
      "cell_type": "code",
      "source": [
        "# Indexing and Slicing\n",
        "\n",
        "# Indexing a 1D array\n",
        "print(\"\\nIndexing 1D Array (element at index 2):\")\n",
        "print(array_1d[2])\n",
        "# Indexing a 2D array\n",
        "print(\"\\nIndexing 2D Array (element at [1, 2]):\")\n",
        "print(array_2d[1, 2])\n",
        "\n",
        "# Slicing a 1D array\n",
        "print(\"\\nSlicing 1D Array (elements from index 1 to 4):\")\n",
        "print(array_1d[1:4])\n",
        "# Slicing a 2D array\n",
        "print(\"\\nSlicing 2D Array (first two rows, last two columns):\")\n",
        "print(array_2d[:2, 1:3])\n",
        "\n",
        "#Reshaping Arrays\n",
        "\n",
        "# Reshaping a 1D array to a 2D array\n",
        "reshaped_array = array_1d.reshape((5, 1))\n",
        "print(\"\\nReshaped 1D Array to 2D Array:\")\n",
        "print(reshaped_array)\n",
        "\n",
        "#Mathematical Operations\n",
        "\n",
        "# Element-wise addition\n",
        "added_array = array_1d + 10\n",
        "print(\"\\nElement-wise Addition:\")\n",
        "print(added_array)\n",
        "\n",
        "# Element-wise multiplication\n",
        "multiplied_array = array_1d * 2\n",
        "print(\"\\nElement-wise Multiplication:\")\n",
        "print(multiplied_array)\n",
        "\n",
        "# Element-wise square\n",
        "squared_array = array_1d ** 2\n",
        "print(\"\\nElement-wise Square:\")\n",
        "print(squared_array)\n",
        "\n",
        "# Matrix multiplication (dot product)\n",
        "dot_product = np.dot(array_2d, array_2d.T)\n",
        "print(\"\\nMatrix Multiplication (Dot Product):\")\n",
        "print(dot_product)\n"
      ],
      "metadata": {
        "colab": {
          "base_uri": "https://localhost:8080/",
          "height": 0
        },
        "id": "LezLRe2ivgLx",
        "outputId": "212e29c5-5191-499b-e490-d3e6a54d1b05"
      },
      "execution_count": 6,
      "outputs": [
        {
          "output_type": "stream",
          "name": "stdout",
          "text": [
            "\n",
            "Indexing 1D Array (element at index 2):\n",
            "3\n",
            "\n",
            "Indexing 2D Array (element at [1, 2]):\n",
            "6\n",
            "\n",
            "Slicing 1D Array (elements from index 1 to 4):\n",
            "[2 3 4]\n",
            "\n",
            "Slicing 2D Array (first two rows, last two columns):\n",
            "[[2 3]\n",
            " [5 6]]\n",
            "\n",
            "Reshaped 1D Array to 2D Array:\n",
            "[[1]\n",
            " [2]\n",
            " [3]\n",
            " [4]\n",
            " [5]]\n",
            "\n",
            "Element-wise Addition:\n",
            "[11 12 13 14 15]\n",
            "\n",
            "Element-wise Multiplication:\n",
            "[ 2  4  6  8 10]\n",
            "\n",
            "Element-wise Square:\n",
            "[ 1  4  9 16 25]\n",
            "\n",
            "Matrix Multiplication (Dot Product):\n",
            "[[14 32]\n",
            " [32 77]]\n"
          ]
        }
      ]
    },
    {
      "cell_type": "markdown",
      "source": [
        "**3.DATA AGGREGATION**\n",
        "\n",
        "---\n",
        "\n"
      ],
      "metadata": {
        "id": "P69TeHMJwvnZ"
      }
    },
    {
      "cell_type": "code",
      "source": [
        "data = np.array([10, 20, 30, 40, 50, 60, 70, 80, 90, 100])\n",
        "\n",
        "#Summary Statistics\n",
        "\n",
        "# Mean\n",
        "mean_value = np.mean(data)\n",
        "print(\"Mean:\", mean_value)\n",
        "\n",
        "# Median\n",
        "median_value = np.median(data)\n",
        "print(\"Median:\", median_value)\n",
        "\n",
        "# Standard Deviation\n",
        "std_dev = np.std(data)\n",
        "print(\"Standard Deviation:\", std_dev)\n",
        "\n",
        "# Variance\n",
        "print(\"Variance of the array\")\n",
        "print(np.var(data))\n",
        "\n",
        "# Sum\n",
        "sum_value = np.sum(data)\n",
        "print(\"Sum:\", sum_value)\n",
        "\n",
        "# Min value in the array\n",
        "print(\"Min value of the array\")\n",
        "print(np.min(data))\n",
        "\n",
        "# Max value of the array\n",
        "print(\"Max value of the array\")\n",
        "print(np.max(data))\n",
        "\n",
        "#Cumulative Sum of the array\n",
        "print(\"Cumulative Sum of the array\")\n",
        "print(np.cumsum(data))\n",
        "\n",
        "#Cumulative Product of the array\n",
        "print(\"Cumulative Product of the array\")\n",
        "print(np.cumprod(data))\n",
        "\n",
        "#Percentile of the array\n",
        "print(\"Percentile of the array\")\n",
        "np.percentile(data,50)\n",
        "\n",
        "# Aggregation by axis\n",
        "column_sum=np.sum(data, axis=0)\n",
        "print(\"Sum along columns:\",column_sum)\n",
        "\n",
        "# Aggregation by axis\n",
        "row_mean=np.mean(array_2d, axis=1)\n",
        "print(\"Mean along rows:\",row_mean)"
      ],
      "metadata": {
        "colab": {
          "base_uri": "https://localhost:8080/",
          "height": 0
        },
        "id": "6H-5ZywSwztA",
        "outputId": "be015624-7caf-4b86-c290-1989f6bf4fc7"
      },
      "execution_count": 10,
      "outputs": [
        {
          "output_type": "stream",
          "name": "stdout",
          "text": [
            "Mean: 55.0\n",
            "Median: 55.0\n",
            "Standard Deviation: 28.722813232690143\n",
            "Variance of the array\n",
            "825.0\n",
            "Sum: 550\n",
            "Min value of the array\n",
            "10\n",
            "Max value of the array\n",
            "100\n",
            "Cumulative Sum of the array\n",
            "[ 10  30  60 100 150 210 280 360 450 550]\n",
            "Cumulative Product of the array\n",
            "[               10               200              6000            240000\n",
            "          12000000         720000000       50400000000     4032000000000\n",
            "   362880000000000 36288000000000000]\n",
            "Percentile of the array\n",
            "Sum along columns: 550\n",
            "Mean along rows: [2. 5.]\n"
          ]
        }
      ]
    },
    {
      "cell_type": "markdown",
      "source": [
        "**4.DATA ANALYSIS**\n",
        "\n",
        "---\n",
        "\n"
      ],
      "metadata": {
        "id": "tjLbybxcy-By"
      }
    },
    {
      "cell_type": "code",
      "source": [
        "# Correlation matrix\n",
        "data2=np.random.rand(5,4)*100\n",
        "print(\"Data for analysis:\")\n",
        "print(data2)\n",
        "\n",
        "cor_arr=np.corrcoef(data2,rowvar=False)\n",
        "print(\"Correlation matrix:\")\n",
        "print(cor_arr)\n",
        "\n",
        "# Identifying outliers\n",
        "outliers=data2[data2 > 95]\n",
        "print(\"Outliers (values greater than 95):\")\n",
        "print(outliers)\n",
        "\n",
        "# Calculating percentiles\n",
        "percentile_90=np.percentile(data2,90)\n",
        "print(\"\\n90th percentile of the data:\", percentile_90)\n"
      ],
      "metadata": {
        "colab": {
          "base_uri": "https://localhost:8080/",
          "height": 0
        },
        "id": "d5e0-J42zBlC",
        "outputId": "8b229fbb-1f24-46fe-c0a7-49b82fdbe201"
      },
      "execution_count": 16,
      "outputs": [
        {
          "output_type": "stream",
          "name": "stdout",
          "text": [
            "Data for analysis:\n",
            "[[34.16930512 75.59231753 63.26063335 41.41646475]\n",
            " [ 5.42524509 80.66693457 81.1166432  57.80295798]\n",
            " [97.94254998 58.57363463 55.40231119 91.52494117]\n",
            " [83.84735297 34.45815431 71.82227343 98.35713428]\n",
            " [43.55753188 62.01795784 69.87368409 22.27126344]]\n",
            "Correlation matrix:\n",
            "[[ 1.         -0.78953511 -0.68955433  0.69736587]\n",
            " [-0.78953511  1.          0.16968348 -0.62383884]\n",
            " [-0.68955433  0.16968348  1.         -0.21225544]\n",
            " [ 0.69736587 -0.62383884 -0.21225544  1.        ]]\n",
            "Outliers (values greater than 95):\n",
            "[97.94254998 98.35713428]\n",
            "\n",
            "90th percentile of the data: 92.16670204677972\n"
          ]
        }
      ]
    },
    {
      "cell_type": "markdown",
      "source": [
        "**5.ADVANTAGES OF NUMPY**\n",
        "\n",
        "---\n",
        "\n"
      ],
      "metadata": {
        "id": "OU_nBIFc06UK"
      }
    },
    {
      "cell_type": "markdown",
      "source": [
        "The Role of NumPy in Data Science\n",
        "Key Advantages of Using NumPy:\n",
        "Performance and Efficiency:\n",
        "\n",
        "Vectorized Operations: Faster execution by applying operations to entire arrays, avoiding Python loops.\n",
        "Memory Efficiency: Less memory usage compared to Python lists due to homogeneous data types.\n",
        "Broadcasting: Simplifies operations on arrays of different shapes.\n",
        "Mathematical Functionality:\n",
        "\n",
        "Comprehensive Library: Optimized mathematical functions for efficient computation.\n",
        "Complex Operations: Simplifies tasks like matrix multiplication and Fourier transforms.\n",
        "Integration with Other Libraries:\n",
        "\n",
        "Compatibility: Seamless integration with libraries like Pandas, SciPy, and scikit-learn.\n",
        "Data Handling: Efficient handling of large datasets, crucial for data science tasks.\n",
        "Real-World Applications of NumPy:\n",
        "Machine Learning:\n",
        "\n",
        "Model Training: Efficient handling of datasets and matrix operations for algorithms.\n",
        "Data Preprocessing: Used in normalization, feature scaling, and dimensionality reduction.\n",
        "Financial Analysis:\n",
        "\n",
        "Risk Management: Supports Monte Carlo simulations to model financial uncertainties.\n",
        "Portfolio Optimization: Helps in optimizing investment portfolios using matrix operations.\n",
        "Scientific Research:\n",
        "\n",
        "Numerical Simulations: Used in solving equations and simulating physical systems.\n",
        "Data Analysis: Assists researchers in handling and analyzing large datasets."
      ],
      "metadata": {
        "id": "N_3jpC6T0-LL"
      }
    }
  ]
}